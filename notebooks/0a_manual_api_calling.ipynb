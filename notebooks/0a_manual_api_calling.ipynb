{
 "cells": [
  {
   "cell_type": "code",
   "execution_count": 3,
   "metadata": {},
   "outputs": [],
   "source": [
    "import yaml as yaml\n",
    "import requests\n",
    "import json"
   ]
  },
  {
   "cell_type": "code",
   "execution_count": 4,
   "metadata": {},
   "outputs": [],
   "source": [
    "with open('../sensitive_config/api_config.yaml','r') as f:\n",
    "    config = yaml.safe_load(f)\n",
    "\n",
    "auth_header = {'X-Api-Key':config['api_key']}\n",
    "base_endpoint = 'https://api.pokemontcg.io/v2/'\n",
    "cards_endpoint = f'{base_endpoint}/cards/'\n",
    "sets_endpoint = f'{base_endpoint}/sets/'\n",
    "types_endpoint = f'{base_endpoint}/types/'\n",
    "subtypes_endpoint = f'{base_endpoint}/subtypes/'\n",
    "supertypes_endpoint = f'{base_endpoint}/supertypes/'\n",
    "rarities_endpoint = f'{base_endpoint}/rarities/'\n"
   ]
  },
  {
   "cell_type": "code",
   "execution_count": 27,
   "metadata": {},
   "outputs": [],
   "source": [
    "class ApiCaller:\n",
    "    def __init__(self, api_key:str, api_version:str='v2'):\n",
    "        self.auth_header = {'X-Api-Key':api_key}\n",
    "        self.base_endpoint = f'https://api.pokemontcg.io/{api_version}/'\n",
    "        self.endpoint = {'cards': f'{base_endpoint}/cards/',\n",
    "                         'sets': f'{base_endpoint}/sets/',\n",
    "                         'types': f'{base_endpoint}/types/',\n",
    "                         'subtypes': f'{base_endpoint}/subtypes/',\n",
    "                         'supertypes': f'{base_endpoint}/supertypes/',\n",
    "                         'rarities': f'{base_endpoint}/rarities/'}\n",
    "        self.sets_catalog: dict = None\n",
    "        self.card_catalog: dict = None\n",
    "    \n",
    "    def get_rarities(self) -> dict:\n",
    "        call_endpoint = f'{self.endpoint[\"rarities\"]}'\n",
    "        results, status = self._call_endpoint(endpoint=call_endpoint)\n",
    "        return results\n",
    "    \n",
    "    def get_types(self) -> dict:\n",
    "        call_endpoint = f'{self.endpoint[\"types\"]}'\n",
    "        results, status = self._call_endpoint(endpoint=call_endpoint)\n",
    "        return results\n",
    "    \n",
    "    def get_subtypes(self) -> dict:\n",
    "        call_endpoint = f'{self.endpoint[\"subtypes\"]}'\n",
    "        results, status = self._call_endpoint(endpoint=call_endpoint)\n",
    "        return results\n",
    "    \n",
    "    def get_supertypes(self) -> dict:\n",
    "        call_endpoint = f'{self.endpoint[\"supertypes\"]}'\n",
    "        results, status = self._call_endpoint(endpoint=call_endpoint)\n",
    "        return results\n",
    "    \n",
    "    def get_sets(self) -> dict:\n",
    "        if self.sets_catalog is None:\n",
    "            self._catalog_sets() # load the catalog of sets from the API\n",
    "        return self.sets_catalog \n",
    "        \n",
    "\n",
    "    def _catalog_sets(self) -> None:\n",
    "        call_endpoint = f'{self.endpoint[\"sets\"]}'\n",
    "        results, status = self._call_endpoint(endpoint=call_endpoint)\n",
    "        if status==200:\n",
    "            self.sets_catalog = results.get('data',None)\n",
    "\n",
    "    \n",
    "\n",
    "    ########################################################################################\n",
    "    # Helper Methods\n",
    "    ########################################################################################\n",
    "\n",
    "    def _call_endpoint(self, endpoint:str) -> tuple[dict,int]:\n",
    "        response = requests.get(url=endpoint, params=self.auth_header)\n",
    "\n",
    "        if response.status_code == 200:\n",
    "            results = response.json()\n",
    "        else:\n",
    "            results = dict()\n",
    "            print(f'Error: Code {response.status_code} occurred on \"{endpoint}\"')\n",
    "\n",
    "        return results, response.status_code \n"
   ]
  },
  {
   "cell_type": "code",
   "execution_count": 28,
   "metadata": {},
   "outputs": [],
   "source": [
    "caller = ApiCaller(api_key=config['api_key'])"
   ]
  },
  {
   "cell_type": "code",
   "execution_count": 32,
   "metadata": {},
   "outputs": [
    {
     "name": "stdout",
     "output_type": "stream",
     "text": [
      "165\n"
     ]
    }
   ],
   "source": [
    "sets_catalog = caller.get_sets()\n",
    "print(len(sets_catalog))"
   ]
  },
  {
   "cell_type": "code",
   "execution_count": 7,
   "metadata": {},
   "outputs": [],
   "source": [
    "#caller.get_rarities()"
   ]
  },
  {
   "cell_type": "code",
   "execution_count": 8,
   "metadata": {},
   "outputs": [],
   "source": [
    "#caller.get_types()"
   ]
  },
  {
   "cell_type": "code",
   "execution_count": 9,
   "metadata": {},
   "outputs": [],
   "source": [
    "#caller.get_subtypes()"
   ]
  },
  {
   "cell_type": "code",
   "execution_count": 10,
   "metadata": {},
   "outputs": [],
   "source": [
    "#caller.get_supertypes()"
   ]
  },
  {
   "cell_type": "code",
   "execution_count": null,
   "metadata": {},
   "outputs": [],
   "source": []
  },
  {
   "cell_type": "code",
   "execution_count": null,
   "metadata": {},
   "outputs": [],
   "source": []
  },
  {
   "cell_type": "code",
   "execution_count": null,
   "metadata": {},
   "outputs": [],
   "source": []
  }
 ],
 "metadata": {
  "kernelspec": {
   "display_name": "venv",
   "language": "python",
   "name": "python3"
  },
  "language_info": {
   "codemirror_mode": {
    "name": "ipython",
    "version": 3
   },
   "file_extension": ".py",
   "mimetype": "text/x-python",
   "name": "python",
   "nbconvert_exporter": "python",
   "pygments_lexer": "ipython3",
   "version": "3.12.3"
  }
 },
 "nbformat": 4,
 "nbformat_minor": 2
}
