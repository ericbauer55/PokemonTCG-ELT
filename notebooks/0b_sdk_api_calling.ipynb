{
 "cells": [
  {
   "cell_type": "markdown",
   "metadata": {},
   "source": [
    "# Pokemon TCG API has a [Python SDK](https://github.com/PokemonTCG/pokemon-tcg-sdk-python)\n",
    "By installing this SDK, I can speed up the development process. This eliminates a lot of work interfacing nicely with the API.\n",
    "\n",
    "### Configure REST Client with API Key\n"
   ]
  },
  {
   "cell_type": "code",
   "execution_count": 1,
   "metadata": {},
   "outputs": [],
   "source": [
    "from pokemontcgsdk import RestClient\n",
    "import yaml as yaml\n",
    "\n",
    "with open('../sensitive_config/api_config.yaml','r') as f:\n",
    "    config = yaml.safe_load(f)\n",
    "\n",
    "RestClient.configure(config['api_key'])"
   ]
  },
  {
   "cell_type": "markdown",
   "metadata": {},
   "source": [
    "### Test Queries"
   ]
  },
  {
   "cell_type": "code",
   "execution_count": 5,
   "metadata": {},
   "outputs": [],
   "source": [
    "from pokemontcgsdk import Card\n",
    "from pokemontcgsdk import Set\n",
    "from pokemontcgsdk import Type\n",
    "from pokemontcgsdk import Supertype\n",
    "from pokemontcgsdk import Subtype\n",
    "from pokemontcgsdk import Rarity"
   ]
  },
  {
   "cell_type": "markdown",
   "metadata": {},
   "source": [
    "### Testing Static Dimension Tables"
   ]
  },
  {
   "cell_type": "code",
   "execution_count": null,
   "metadata": {},
   "outputs": [],
   "source": [
    "supertypes = Supertype.all()\n",
    "supertypes"
   ]
  },
  {
   "cell_type": "code",
   "execution_count": 9,
   "metadata": {},
   "outputs": [
    {
     "data": {
      "text/plain": [
       "['ACE SPEC', 'Ancient', 'BREAK', 'Baby']"
      ]
     },
     "execution_count": 9,
     "metadata": {},
     "output_type": "execute_result"
    }
   ],
   "source": [
    "subtypes = Subtype.all()\n",
    "subtypes[0:4]"
   ]
  },
  {
   "cell_type": "code",
   "execution_count": 10,
   "metadata": {},
   "outputs": [
    {
     "data": {
      "text/plain": [
       "['Colorless', 'Darkness', 'Dragon', 'Fairy']"
      ]
     },
     "execution_count": 10,
     "metadata": {},
     "output_type": "execute_result"
    }
   ],
   "source": [
    "types = Type.all()\n",
    "types[0:4]"
   ]
  },
  {
   "cell_type": "code",
   "execution_count": 13,
   "metadata": {},
   "outputs": [
    {
     "data": {
      "text/plain": [
       "['Special Illustration Rare',\n",
       " 'Trainer Gallery Rare Holo',\n",
       " 'Ultra Rare',\n",
       " 'Uncommon']"
      ]
     },
     "execution_count": 13,
     "metadata": {},
     "output_type": "execute_result"
    }
   ],
   "source": [
    "rarities = Rarity.all()\n",
    "rarities[-4:]"
   ]
  },
  {
   "cell_type": "code",
   "execution_count": 27,
   "metadata": {},
   "outputs": [],
   "source": [
    "import json\n",
    "from pathlib import Path\n",
    "\n",
    "data_path = Path().cwd().parent / 'data'\n",
    "raw_data_path = data_path / 'raw'"
   ]
  },
  {
   "cell_type": "code",
   "execution_count": 29,
   "metadata": {},
   "outputs": [],
   "source": [
    "with open(raw_data_path / 'rarities.json', 'w') as f:\n",
    "    json.dump(rarities, f, indent=4)\n",
    "\n",
    "with open(raw_data_path / 'types.json', 'w') as f:\n",
    "    json.dump(types, f, indent=4)\n",
    "\n",
    "with open(raw_data_path / 'subtypes.json', 'w') as f:\n",
    "    json.dump(subtypes, f, indent=4)\n",
    "\n",
    "with open(raw_data_path / 'supertypes.json', 'w') as f:\n",
    "    json.dump(supertypes, f, indent=4)"
   ]
  },
  {
   "cell_type": "markdown",
   "metadata": {},
   "source": [
    "### Testing Set API"
   ]
  },
  {
   "cell_type": "code",
   "execution_count": null,
   "metadata": {},
   "outputs": [],
   "source": [
    "import dataclasses as dc"
   ]
  },
  {
   "cell_type": "code",
   "execution_count": 32,
   "metadata": {},
   "outputs": [
    {
     "data": {
      "text/plain": [
       "{'id': 'base1',\n",
       " 'images': {'symbol': 'https://images.pokemontcg.io/base1/symbol.png',\n",
       "  'logo': 'https://images.pokemontcg.io/base1/logo.png'},\n",
       " 'legalities': {'unlimited': 'Legal', 'expanded': None, 'standard': None},\n",
       " 'name': 'Base',\n",
       " 'printedTotal': 102,\n",
       " 'ptcgoCode': 'BS',\n",
       " 'releaseDate': '1999/01/09',\n",
       " 'series': 'Base',\n",
       " 'total': 102,\n",
       " 'updatedAt': '2022/10/10 15:12:00'}"
      ]
     },
     "execution_count": 32,
     "metadata": {},
     "output_type": "execute_result"
    }
   ],
   "source": [
    "sets_catalog = Set.all()\n",
    "# Convert list of Dataclass objects to list of dictionaries\n",
    "sets_catalog_as_dict: list[dict] = [dc.asdict(card_set) for card_set in sets_catalog]\n",
    "sets_catalog_as_dict[0]"
   ]
  },
  {
   "cell_type": "code",
   "execution_count": 33,
   "metadata": {},
   "outputs": [],
   "source": [
    "with open(raw_data_path / 'sets_catalog.json', 'w') as f:\n",
    "    json.dump(sets_catalog_as_dict, f, indent=4)"
   ]
  },
  {
   "cell_type": "code",
   "execution_count": null,
   "metadata": {},
   "outputs": [
    {
     "ename": "TypeError",
     "evalue": "asdict() should be called on dataclass instances",
     "output_type": "error",
     "traceback": [
      "\u001b[31m---------------------------------------------------------------------------\u001b[39m",
      "\u001b[31mTypeError\u001b[39m                                 Traceback (most recent call last)",
      "\u001b[36mCell\u001b[39m\u001b[36m \u001b[39m\u001b[32mIn[31]\u001b[39m\u001b[32m, line 1\u001b[39m\n\u001b[32m----> \u001b[39m\u001b[32m1\u001b[39m \u001b[43mdc\u001b[49m\u001b[43m.\u001b[49m\u001b[43masdict\u001b[49m\u001b[43m(\u001b[49m\u001b[43msets_catalog\u001b[49m\u001b[43m[\u001b[49m\u001b[32;43m0\u001b[39;49m\u001b[43m:\u001b[49m\u001b[32;43m3\u001b[39;49m\u001b[43m]\u001b[49m\u001b[43m)\u001b[49m\n",
      "\u001b[36mFile \u001b[39m\u001b[32m/usr/lib/python3.12/dataclasses.py:1321\u001b[39m, in \u001b[36masdict\u001b[39m\u001b[34m(obj, dict_factory)\u001b[39m\n\u001b[32m   1302\u001b[39m \u001b[38;5;250m\u001b[39m\u001b[33;03m\"\"\"Return the fields of a dataclass instance as a new dictionary mapping\u001b[39;00m\n\u001b[32m   1303\u001b[39m \u001b[33;03mfield names to field values.\u001b[39;00m\n\u001b[32m   1304\u001b[39m \n\u001b[32m   (...)\u001b[39m\u001b[32m   1318\u001b[39m \u001b[33;03mtuples, lists, and dicts. Other objects are copied with 'copy.deepcopy()'.\u001b[39;00m\n\u001b[32m   1319\u001b[39m \u001b[33;03m\"\"\"\u001b[39;00m\n\u001b[32m   1320\u001b[39m \u001b[38;5;28;01mif\u001b[39;00m \u001b[38;5;129;01mnot\u001b[39;00m _is_dataclass_instance(obj):\n\u001b[32m-> \u001b[39m\u001b[32m1321\u001b[39m     \u001b[38;5;28;01mraise\u001b[39;00m \u001b[38;5;167;01mTypeError\u001b[39;00m(\u001b[33m\"\u001b[39m\u001b[33masdict() should be called on dataclass instances\u001b[39m\u001b[33m\"\u001b[39m)\n\u001b[32m   1322\u001b[39m \u001b[38;5;28;01mreturn\u001b[39;00m _asdict_inner(obj, dict_factory)\n",
      "\u001b[31mTypeError\u001b[39m: asdict() should be called on dataclass instances"
     ]
    }
   ],
   "source": []
  },
  {
   "cell_type": "code",
   "execution_count": null,
   "metadata": {},
   "outputs": [],
   "source": []
  }
 ],
 "metadata": {
  "kernelspec": {
   "display_name": "venv",
   "language": "python",
   "name": "python3"
  },
  "language_info": {
   "codemirror_mode": {
    "name": "ipython",
    "version": 3
   },
   "file_extension": ".py",
   "mimetype": "text/x-python",
   "name": "python",
   "nbconvert_exporter": "python",
   "pygments_lexer": "ipython3",
   "version": "3.12.3"
  }
 },
 "nbformat": 4,
 "nbformat_minor": 2
}
