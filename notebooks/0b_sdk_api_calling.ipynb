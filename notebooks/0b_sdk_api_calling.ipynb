{
 "cells": [
  {
   "cell_type": "markdown",
   "metadata": {},
   "source": [
    "# Pokemon TCG API has a [Python SDK](https://github.com/PokemonTCG/pokemon-tcg-sdk-python)\n",
    "By installing this SDK, I can speed up the development process. This eliminates a lot of work interfacing nicely with the API.\n",
    "\n",
    "### Configure REST Client with API Key\n"
   ]
  },
  {
   "cell_type": "code",
   "execution_count": 1,
   "metadata": {},
   "outputs": [],
   "source": [
    "from pokemontcgsdk import RestClient\n",
    "import yaml as yaml\n",
    "\n",
    "with open('../sensitive_config/api_config.yaml','r') as f:\n",
    "    config = yaml.safe_load(f)\n",
    "\n",
    "RestClient.configure(config['api_key'])"
   ]
  },
  {
   "cell_type": "markdown",
   "metadata": {},
   "source": [
    "### Test Queries"
   ]
  },
  {
   "cell_type": "code",
   "execution_count": 5,
   "metadata": {},
   "outputs": [],
   "source": [
    "from pokemontcgsdk import Card\n",
    "from pokemontcgsdk import Set\n",
    "from pokemontcgsdk import Type\n",
    "from pokemontcgsdk import Supertype\n",
    "from pokemontcgsdk import Subtype\n",
    "from pokemontcgsdk import Rarity"
   ]
  },
  {
   "cell_type": "markdown",
   "metadata": {},
   "source": [
    "### Testing Static Dimension Tables"
   ]
  },
  {
   "cell_type": "code",
   "execution_count": null,
   "metadata": {},
   "outputs": [],
   "source": [
    "supertypes = Supertype.all()\n",
    "supertypes"
   ]
  },
  {
   "cell_type": "code",
   "execution_count": 9,
   "metadata": {},
   "outputs": [
    {
     "data": {
      "text/plain": [
       "['ACE SPEC', 'Ancient', 'BREAK', 'Baby']"
      ]
     },
     "execution_count": 9,
     "metadata": {},
     "output_type": "execute_result"
    }
   ],
   "source": [
    "subtypes = Subtype.all()\n",
    "subtypes[0:4]"
   ]
  },
  {
   "cell_type": "code",
   "execution_count": 10,
   "metadata": {},
   "outputs": [
    {
     "data": {
      "text/plain": [
       "['Colorless', 'Darkness', 'Dragon', 'Fairy']"
      ]
     },
     "execution_count": 10,
     "metadata": {},
     "output_type": "execute_result"
    }
   ],
   "source": [
    "types = Type.all()\n",
    "types[0:4]"
   ]
  },
  {
   "cell_type": "code",
   "execution_count": 13,
   "metadata": {},
   "outputs": [
    {
     "data": {
      "text/plain": [
       "['Special Illustration Rare',\n",
       " 'Trainer Gallery Rare Holo',\n",
       " 'Ultra Rare',\n",
       " 'Uncommon']"
      ]
     },
     "execution_count": 13,
     "metadata": {},
     "output_type": "execute_result"
    }
   ],
   "source": [
    "rarities = Rarity.all()\n",
    "rarities[-4:]"
   ]
  },
  {
   "cell_type": "code",
   "execution_count": 27,
   "metadata": {},
   "outputs": [],
   "source": [
    "import json\n",
    "from pathlib import Path\n",
    "\n",
    "data_path = Path().cwd().parent / 'data'\n",
    "raw_data_path = data_path / 'raw'"
   ]
  },
  {
   "cell_type": "code",
   "execution_count": 29,
   "metadata": {},
   "outputs": [],
   "source": [
    "with open(raw_data_path / 'rarities.json', 'w') as f:\n",
    "    json.dump(rarities, f, indent=4)\n",
    "\n",
    "with open(raw_data_path / 'types.json', 'w') as f:\n",
    "    json.dump(types, f, indent=4)\n",
    "\n",
    "with open(raw_data_path / 'subtypes.json', 'w') as f:\n",
    "    json.dump(subtypes, f, indent=4)\n",
    "\n",
    "with open(raw_data_path / 'supertypes.json', 'w') as f:\n",
    "    json.dump(supertypes, f, indent=4)"
   ]
  },
  {
   "cell_type": "markdown",
   "metadata": {},
   "source": [
    "### Testing Set API"
   ]
  },
  {
   "cell_type": "code",
   "execution_count": null,
   "metadata": {},
   "outputs": [],
   "source": [
    "import dataclasses as dc\n",
    "from datetime import datetime"
   ]
  },
  {
   "cell_type": "code",
   "execution_count": 32,
   "metadata": {},
   "outputs": [
    {
     "data": {
      "text/plain": [
       "{'id': 'base1',\n",
       " 'images': {'symbol': 'https://images.pokemontcg.io/base1/symbol.png',\n",
       "  'logo': 'https://images.pokemontcg.io/base1/logo.png'},\n",
       " 'legalities': {'unlimited': 'Legal', 'expanded': None, 'standard': None},\n",
       " 'name': 'Base',\n",
       " 'printedTotal': 102,\n",
       " 'ptcgoCode': 'BS',\n",
       " 'releaseDate': '1999/01/09',\n",
       " 'series': 'Base',\n",
       " 'total': 102,\n",
       " 'updatedAt': '2022/10/10 15:12:00'}"
      ]
     },
     "execution_count": 32,
     "metadata": {},
     "output_type": "execute_result"
    }
   ],
   "source": [
    "sets_catalog = Set.all()\n",
    "# Convert list of Dataclass objects to list of dictionaries\n",
    "sets_catalog_as_dict: list[dict] = [dc.asdict(card_set) for card_set in sets_catalog]\n",
    "sets_catalog_as_dict[0]"
   ]
  },
  {
   "cell_type": "code",
   "execution_count": null,
   "metadata": {},
   "outputs": [],
   "source": [
    "# Add metadata around the pulled data\n",
    "def wrap_with_metadata(data: list[dict]) -> dict:\n",
    "    get_current_time = lambda: datetime.today().strftime('%m/%d/%Y %H:%M:%S')\n",
    "    wrapped_data = {'pulled_on':get_current_time(),\n",
    "                    'count':len(data),\n",
    "                    'data':data}\n",
    "    return wrapped_data\n",
    "    "
   ]
  },
  {
   "cell_type": "code",
   "execution_count": 57,
   "metadata": {},
   "outputs": [],
   "source": [
    "with open(raw_data_path / 'sets_catalog.json', 'w') as f:\n",
    "    json.dump(wrap_with_metadata(sets_catalog_as_dict), f, indent=4)"
   ]
  },
  {
   "cell_type": "markdown",
   "metadata": {},
   "source": [
    "### Testing Card API as Full Catalog"
   ]
  },
  {
   "cell_type": "code",
   "execution_count": 39,
   "metadata": {},
   "outputs": [
    {
     "name": "stdout",
     "output_type": "stream",
     "text": [
      "Query for all cards executed in 8.990885547796886 minutes\n"
     ]
    }
   ],
   "source": [
    "import time\n",
    "tic = time.time()\n",
    "cards_catalog = Card.all()\n",
    "toc = time.time()\n",
    "print(f'Query for all cards executed in {(toc-tic)/60.0} minutes')"
   ]
  },
  {
   "cell_type": "code",
   "execution_count": 60,
   "metadata": {},
   "outputs": [
    {
     "data": {
      "text/plain": [
       "('Aggron', 'Spiky Energy')"
      ]
     },
     "execution_count": 60,
     "metadata": {},
     "output_type": "execute_result"
    }
   ],
   "source": [
    "cards_catalog_as_dict: list[dict] = [dc.asdict(card) for card in cards_catalog]\n",
    "cards_catalog_as_dict[0]['name'], cards_catalog_as_dict[-1]['name']"
   ]
  },
  {
   "cell_type": "code",
   "execution_count": 62,
   "metadata": {},
   "outputs": [],
   "source": [
    "with open(raw_data_path / 'cards_catalog.json', 'w') as f:\n",
    "    json.dump(wrap_with_metadata(cards_catalog_as_dict), f, indent=4)\n",
    "\n",
    "with open(raw_data_path / 'cards_sample.json', 'w') as f:\n",
    "    json.dump(wrap_with_metadata([cards_catalog_as_dict[0]]), f, indent=4)"
   ]
  },
  {
   "cell_type": "markdown",
   "metadata": {},
   "source": [
    "### Testing Card API as Partial Fields Catalog"
   ]
  },
  {
   "cell_type": "code",
   "execution_count": 86,
   "metadata": {},
   "outputs": [],
   "source": [
    "price_capture_fields_of_interest = ['name','id','tcgplayer','legalities']\n",
    "# This is because the Dacite python package that QueryBuilder uses creates a Card dataclass from the response dictionary\n",
    "# So even if the '?select=name,id,...' from price_capture_fields_of_interest is executed with a correct API response,\n",
    "# there are non Optional type fields in the Card dataclass that require definition or an error occurs.\n",
    "mandatory_other_fields = ['images','number','supertype', 'set'] \n",
    "fields_subset = price_capture_fields_of_interest + mandatory_other_fields\n",
    "foi_string = ','.join(fields_subset)"
   ]
  },
  {
   "cell_type": "code",
   "execution_count": 80,
   "metadata": {},
   "outputs": [],
   "source": [
    "data = Card.where(q='id:hgss4-1', select=foi_string)"
   ]
  },
  {
   "cell_type": "code",
   "execution_count": 87,
   "metadata": {},
   "outputs": [],
   "source": [
    "data_as_dict: list[dict] = [dc.asdict(datum) for datum in data]\n",
    "subset_fields_of_interest = lambda data, fields: [{field:datum[field] for field in fields} for datum in data] # assumes fields of interest are top-level only\n",
    "subsetted_data_as_dict = subset_fields_of_interest(data_as_dict, price_capture_fields_of_interest)"
   ]
  },
  {
   "cell_type": "code",
   "execution_count": 88,
   "metadata": {},
   "outputs": [
    {
     "data": {
      "text/plain": [
       "[{'name': 'Aggron',\n",
       "  'id': 'hgss4-1',\n",
       "  'tcgplayer': {'url': 'https://prices.pokemontcg.io/tcgplayer/hgss4-1',\n",
       "   'updatedAt': '2025/04/01',\n",
       "   'prices': {'normal': None,\n",
       "    'holofoil': {'low': 2.0,\n",
       "     'mid': 2.74,\n",
       "     'high': 4.04,\n",
       "     'market': 2.33,\n",
       "     'directLow': None},\n",
       "    'reverseHolofoil': {'low': 2.1,\n",
       "     'mid': 4.0,\n",
       "     'high': 500.0,\n",
       "     'market': 2.35,\n",
       "     'directLow': None},\n",
       "    'firstEditionHolofoil': None,\n",
       "    'firstEditionNormal': None}},\n",
       "  'legalities': {'unlimited': 'Legal', 'expanded': None, 'standard': None}}]"
      ]
     },
     "execution_count": 88,
     "metadata": {},
     "output_type": "execute_result"
    }
   ],
   "source": [
    "subsetted_data_as_dict"
   ]
  },
  {
   "cell_type": "code",
   "execution_count": 89,
   "metadata": {},
   "outputs": [],
   "source": [
    "### Now Testing a Full-catalog Price Update"
   ]
  },
  {
   "cell_type": "code",
   "execution_count": 90,
   "metadata": {},
   "outputs": [
    {
     "name": "stdout",
     "output_type": "stream",
     "text": [
      "Query for all cards executed in 9.137225449085236 minutes\n"
     ]
    }
   ],
   "source": [
    "tic = time.time()\n",
    "cards_catalog_price_update = Card.where(select=foi_string)\n",
    "toc = time.time()\n",
    "print(f'Query for all cards executed in {(toc-tic)/60.0} minutes')"
   ]
  },
  {
   "cell_type": "code",
   "execution_count": 91,
   "metadata": {},
   "outputs": [],
   "source": [
    "cards_catalog_price_update_as_dict: list[dict] = [dc.asdict(card) for card in cards_catalog_price_update]\n",
    "subsetted_cards_catalog_price_update = subset_fields_of_interest(cards_catalog_price_update_as_dict, price_capture_fields_of_interest)"
   ]
  },
  {
   "cell_type": "code",
   "execution_count": 94,
   "metadata": {},
   "outputs": [],
   "source": [
    "with open(raw_data_path / 'cards_catalog_update.json', 'w') as f:\n",
    "    json.dump(wrap_with_metadata(subsetted_cards_catalog_price_update), f, indent=4)"
   ]
  },
  {
   "cell_type": "code",
   "execution_count": null,
   "metadata": {},
   "outputs": [],
   "source": []
  },
  {
   "cell_type": "code",
   "execution_count": null,
   "metadata": {},
   "outputs": [],
   "source": []
  },
  {
   "cell_type": "code",
   "execution_count": null,
   "metadata": {},
   "outputs": [],
   "source": []
  }
 ],
 "metadata": {
  "kernelspec": {
   "display_name": "venv",
   "language": "python",
   "name": "python3"
  },
  "language_info": {
   "codemirror_mode": {
    "name": "ipython",
    "version": 3
   },
   "file_extension": ".py",
   "mimetype": "text/x-python",
   "name": "python",
   "nbconvert_exporter": "python",
   "pygments_lexer": "ipython3",
   "version": "3.12.3"
  }
 },
 "nbformat": 4,
 "nbformat_minor": 2
}
