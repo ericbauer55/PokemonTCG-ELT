{
 "cells": [
  {
   "cell_type": "code",
   "execution_count": 4,
   "metadata": {},
   "outputs": [],
   "source": [
    "import yaml as yaml\n",
    "import requests\n",
    "import json"
   ]
  },
  {
   "cell_type": "code",
   "execution_count": 5,
   "metadata": {},
   "outputs": [],
   "source": [
    "with open('../sensitive_config/api_config.yaml','r') as f:\n",
    "    config = yaml.safe_load(f)\n",
    "\n",
    "auth_header = {'X-Api-Key':config['api_key']}\n",
    "base_endpoint = 'https://api.pokemontcg.io/v2/'\n",
    "cards_endpoint = f'{base_endpoint}/cards/'\n",
    "sets_endpoint = f'{base_endpoint}/sets/'\n",
    "types_endpoint = f'{base_endpoint}/types/'\n",
    "subtypes_endpoint = f'{base_endpoint}/subtypes/'\n",
    "supertypes_endpoint = f'{base_endpoint}/supertypes/'\n",
    "rarities_endpoint = f'{base_endpoint}/rarities/'\n"
   ]
  },
  {
   "cell_type": "code",
   "execution_count": 24,
   "metadata": {},
   "outputs": [],
   "source": [
    "class ApiCaller:\n",
    "    def __init__(self, api_key:str, api_version:str='v2'):\n",
    "        self.auth_header = {'X-Api-Key':api_key}\n",
    "        self.base_endpoint = f'https://api.pokemontcg.io/{api_version}/'\n",
    "        self.endpoint = {'cards': f'{base_endpoint}/cards/',\n",
    "                         'sets': f'{base_endpoint}/sets/',\n",
    "                         'types': f'{base_endpoint}/types/',\n",
    "                         'subtypes': f'{base_endpoint}/subtypes/',\n",
    "                         'supertypes': f'{base_endpoint}/supertypes/',\n",
    "                         'rarities': f'{base_endpoint}/rarities/'}\n",
    "    \n",
    "    def get_rarities(self) -> dict:\n",
    "        call_endpoint = f'{self.endpoint[\"rarities\"]}'\n",
    "        results, status = self._call_endpoint(endpoint=call_endpoint)\n",
    "        return results\n",
    "    \n",
    "    def get_types(self) -> dict:\n",
    "        call_endpoint = f'{self.endpoint[\"types\"]}'\n",
    "        results, status = self._call_endpoint(endpoint=call_endpoint)\n",
    "        return results\n",
    "    \n",
    "    def get_subtypes(self) -> dict:\n",
    "        call_endpoint = f'{self.endpoint[\"subtypes\"]}'\n",
    "        results, status = self._call_endpoint(endpoint=call_endpoint)\n",
    "        return results\n",
    "    \n",
    "    def get_supertypes(self) -> dict:\n",
    "        call_endpoint = f'{self.endpoint[\"supertypes\"]}'\n",
    "        results, status = self._call_endpoint(endpoint=call_endpoint)\n",
    "        return results\n",
    "\n",
    "    ########################################################################################\n",
    "    # Helper Methods\n",
    "    ########################################################################################\n",
    "\n",
    "    def _call_endpoint(self, endpoint:str) -> tuple[dict,int]:\n",
    "        response = requests.get(url=endpoint, params=self.auth_header)\n",
    "\n",
    "        if response.status_code == 200:\n",
    "            results = response.json()\n",
    "        else:\n",
    "            results = dict()\n",
    "            print(f'Error: Code {response.status_code} occurred on \"{endpoint}\"')\n",
    "\n",
    "        return results, response.status_code "
   ]
  },
  {
   "cell_type": "code",
   "execution_count": 25,
   "metadata": {},
   "outputs": [],
   "source": [
    "caller = ApiCaller(api_key=config['api_key'])"
   ]
  },
  {
   "cell_type": "code",
   "execution_count": 23,
   "metadata": {},
   "outputs": [
    {
     "data": {
      "text/plain": [
       "{'data': ['ACE SPEC Rare',\n",
       "  'Amazing Rare',\n",
       "  'Classic Collection',\n",
       "  'Common',\n",
       "  'Double Rare',\n",
       "  'Hyper Rare',\n",
       "  'Illustration Rare',\n",
       "  'LEGEND',\n",
       "  'Promo',\n",
       "  'Radiant Rare',\n",
       "  'Rare',\n",
       "  'Rare ACE',\n",
       "  'Rare BREAK',\n",
       "  'Rare Holo',\n",
       "  'Rare Holo EX',\n",
       "  'Rare Holo GX',\n",
       "  'Rare Holo LV.X',\n",
       "  'Rare Holo Star',\n",
       "  'Rare Holo V',\n",
       "  'Rare Holo VMAX',\n",
       "  'Rare Holo VSTAR',\n",
       "  'Rare Prime',\n",
       "  'Rare Prism Star',\n",
       "  'Rare Rainbow',\n",
       "  'Rare Secret',\n",
       "  'Rare Shining',\n",
       "  'Rare Shiny',\n",
       "  'Rare Shiny GX',\n",
       "  'Rare Ultra',\n",
       "  'Shiny Rare',\n",
       "  'Shiny Ultra Rare',\n",
       "  'Special Illustration Rare',\n",
       "  'Trainer Gallery Rare Holo',\n",
       "  'Ultra Rare',\n",
       "  'Uncommon']}"
      ]
     },
     "execution_count": 23,
     "metadata": {},
     "output_type": "execute_result"
    }
   ],
   "source": [
    "caller.get_rarities()"
   ]
  },
  {
   "cell_type": "code",
   "execution_count": 26,
   "metadata": {},
   "outputs": [
    {
     "data": {
      "text/plain": [
       "{'data': ['Colorless',\n",
       "  'Darkness',\n",
       "  'Dragon',\n",
       "  'Fairy',\n",
       "  'Fighting',\n",
       "  'Fire',\n",
       "  'Grass',\n",
       "  'Lightning',\n",
       "  'Metal',\n",
       "  'Psychic',\n",
       "  'Water']}"
      ]
     },
     "execution_count": 26,
     "metadata": {},
     "output_type": "execute_result"
    }
   ],
   "source": [
    "caller.get_types()"
   ]
  },
  {
   "cell_type": "code",
   "execution_count": 27,
   "metadata": {},
   "outputs": [
    {
     "data": {
      "text/plain": [
       "{'data': ['ACE SPEC',\n",
       "  'Ancient',\n",
       "  'BREAK',\n",
       "  'Baby',\n",
       "  'Basic',\n",
       "  'EX',\n",
       "  'Eternamax',\n",
       "  'Fusion Strike',\n",
       "  'Future',\n",
       "  'GX',\n",
       "  'Goldenrod Game Corner',\n",
       "  'Item',\n",
       "  'LEGEND',\n",
       "  'Level-Up',\n",
       "  'MEGA',\n",
       "  'Pokémon Tool',\n",
       "  'Pokémon Tool F',\n",
       "  'Prime',\n",
       "  'Prism Star',\n",
       "  'Radiant',\n",
       "  'Rapid Strike',\n",
       "  'Restored',\n",
       "  \"Rocket's Secret Machine\",\n",
       "  'SP',\n",
       "  'Single Strike',\n",
       "  'Special',\n",
       "  'Stadium',\n",
       "  'Stage 1',\n",
       "  'Stage 2',\n",
       "  'Star',\n",
       "  'Supporter',\n",
       "  'TAG TEAM',\n",
       "  'Team Plasma',\n",
       "  'Technical Machine',\n",
       "  'Tera',\n",
       "  'Ultra Beast',\n",
       "  'V',\n",
       "  'V-UNION',\n",
       "  'VMAX',\n",
       "  'VSTAR',\n",
       "  'ex']}"
      ]
     },
     "execution_count": 27,
     "metadata": {},
     "output_type": "execute_result"
    }
   ],
   "source": [
    "caller.get_subtypes()"
   ]
  },
  {
   "cell_type": "code",
   "execution_count": 28,
   "metadata": {},
   "outputs": [
    {
     "data": {
      "text/plain": [
       "{'data': ['Energy', 'Pokémon', 'Trainer']}"
      ]
     },
     "execution_count": 28,
     "metadata": {},
     "output_type": "execute_result"
    }
   ],
   "source": [
    "caller.get_supertypes()"
   ]
  },
  {
   "cell_type": "code",
   "execution_count": null,
   "metadata": {},
   "outputs": [],
   "source": []
  }
 ],
 "metadata": {
  "kernelspec": {
   "display_name": "venv",
   "language": "python",
   "name": "python3"
  },
  "language_info": {
   "codemirror_mode": {
    "name": "ipython",
    "version": 3
   },
   "file_extension": ".py",
   "mimetype": "text/x-python",
   "name": "python",
   "nbconvert_exporter": "python",
   "pygments_lexer": "ipython3",
   "version": "3.12.3"
  }
 },
 "nbformat": 4,
 "nbformat_minor": 2
}
